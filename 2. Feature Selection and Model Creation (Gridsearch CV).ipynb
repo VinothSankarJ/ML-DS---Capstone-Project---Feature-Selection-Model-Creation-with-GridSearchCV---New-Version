{
 "cells": [
  {
   "cell_type": "code",
   "execution_count": 1,
   "id": "57b2bc6e",
   "metadata": {},
   "outputs": [],
   "source": [
    "import pandas as pd\n",
    "\n",
    "\n"
   ]
  },
  {
   "cell_type": "markdown",
   "id": "57cdb685",
   "metadata": {},
   "source": [
    "# Define a function to preprocess the CSV files (if not already defined)\n"
   ]
  },
  {
   "cell_type": "code",
   "execution_count": 2,
   "id": "88208b22",
   "metadata": {},
   "outputs": [],
   "source": [
    "def preprocess_csv(file_path):\n",
    "    df = pd.read_csv(file_path)\n",
    "    df = df.applymap(str)\n",
    "    return df"
   ]
  },
  {
   "cell_type": "markdown",
   "id": "05c9f0cd",
   "metadata": {},
   "source": [
    "# Load and preprocess the 'OrderList.csv' file"
   ]
  },
  {
   "cell_type": "code",
   "execution_count": 3,
   "id": "a386bb57",
   "metadata": {},
   "outputs": [],
   "source": [
    "order_list_df = preprocess_csv('preprocessed_OrderList.csv')"
   ]
  },
  {
   "cell_type": "markdown",
   "id": "65f178c2",
   "metadata": {},
   "source": [
    "# Select relevant features from the OrderList DataFrame"
   ]
  },
  {
   "cell_type": "code",
   "execution_count": 4,
   "id": "05996cc5",
   "metadata": {},
   "outputs": [],
   "source": [
    "selected_features = order_list_df[['Order ID', 'Order Date', 'Origin Port', 'Carrier', 'TPT', 'Service Level', \n",
    "                                   'Ship ahead day count', 'Ship Late Day count', 'Customer', 'Product ID', \n",
    "                                   'Destination Port', 'Unit quantity', 'Weight']]"
   ]
  },
  {
   "cell_type": "markdown",
   "id": "1cc0ed4c",
   "metadata": {},
   "source": [
    "# Save the selected features to a new CSV file"
   ]
  },
  {
   "cell_type": "code",
   "execution_count": 5,
   "id": "5196ce48",
   "metadata": {},
   "outputs": [],
   "source": [
    "selected_features.to_csv('selected_features.csv', index=False)"
   ]
  },
  {
   "cell_type": "code",
   "execution_count": 6,
   "id": "28e7d2c2",
   "metadata": {},
   "outputs": [],
   "source": [
    "#pip install scikit-learn\n"
   ]
  },
  {
   "cell_type": "code",
   "execution_count": 7,
   "id": "69a34402",
   "metadata": {},
   "outputs": [],
   "source": [
    "import pandas as pd\n",
    "from sklearn.model_selection import RandomizedSearchCV\n",
    "from sklearn.pipeline import Pipeline\n",
    "from sklearn.ensemble import RandomForestClassifier\n",
    "from sklearn.preprocessing import StandardScaler, OneHotEncoder\n",
    "from sklearn.compose import ColumnTransformer\n",
    "from sklearn.impute import SimpleImputer"
   ]
  },
  {
   "cell_type": "markdown",
   "id": "fbb3cc16",
   "metadata": {},
   "source": [
    "# Load the preprocessed OrderList data with selected features\n"
   ]
  },
  {
   "cell_type": "code",
   "execution_count": 8,
   "id": "ec3b6b8c",
   "metadata": {},
   "outputs": [],
   "source": [
    "order_list_df = preprocess_csv('preprocessed_OrderList.csv')\n"
   ]
  },
  {
   "cell_type": "markdown",
   "id": "ef59fec8",
   "metadata": {},
   "source": [
    "# Select relevant features and target variable\n"
   ]
  },
  {
   "cell_type": "code",
   "execution_count": 9,
   "id": "d05d0ee9",
   "metadata": {},
   "outputs": [],
   "source": [
    "X = order_list_df[['Order ID', 'Order Date', 'Origin Port', 'Carrier', 'TPT', 'Service Level', \n",
    "                   'Ship ahead day count', 'Ship Late Day count', 'Customer', 'Product ID', \n",
    "                   'Destination Port', 'Unit quantity', 'Weight']]\n",
    "y = order_list_df['Plant Code']\n"
   ]
  },
  {
   "cell_type": "markdown",
   "id": "7bc4858b",
   "metadata": {},
   "source": [
    "# Filter out classes with less than two instances\n"
   ]
  },
  {
   "cell_type": "code",
   "execution_count": 10,
   "id": "c1f2a59e",
   "metadata": {},
   "outputs": [],
   "source": [
    "class_counts = y.value_counts()\n",
    "valid_classes = class_counts[class_counts >= 2].index\n",
    "filtered_indices = y.isin(valid_classes)\n",
    "X_filtered = X[filtered_indices]\n",
    "y_filtered = y[filtered_indices]"
   ]
  },
  {
   "cell_type": "markdown",
   "id": "39c718c1",
   "metadata": {},
   "source": [
    "# Split the filtered data into training and testing sets\n"
   ]
  },
  {
   "cell_type": "code",
   "execution_count": 11,
   "id": "f50bb8eb",
   "metadata": {},
   "outputs": [
    {
     "ename": "NameError",
     "evalue": "name 'train_test_split' is not defined",
     "output_type": "error",
     "traceback": [
      "\u001b[1;31m---------------------------------------------------------------------------\u001b[0m",
      "\u001b[1;31mNameError\u001b[0m                                 Traceback (most recent call last)",
      "\u001b[1;32m~\\AppData\\Local\\Temp\\ipykernel_13316\\817207110.py\u001b[0m in \u001b[0;36m<module>\u001b[1;34m\u001b[0m\n\u001b[1;32m----> 1\u001b[1;33m \u001b[0mX_train\u001b[0m\u001b[1;33m,\u001b[0m \u001b[0mX_test\u001b[0m\u001b[1;33m,\u001b[0m \u001b[0my_train\u001b[0m\u001b[1;33m,\u001b[0m \u001b[0my_test\u001b[0m \u001b[1;33m=\u001b[0m \u001b[0mtrain_test_split\u001b[0m\u001b[1;33m(\u001b[0m\u001b[0mX_filtered\u001b[0m\u001b[1;33m,\u001b[0m \u001b[0my_filtered\u001b[0m\u001b[1;33m,\u001b[0m \u001b[0mtest_size\u001b[0m\u001b[1;33m=\u001b[0m\u001b[1;36m0.2\u001b[0m\u001b[1;33m,\u001b[0m \u001b[0mrandom_state\u001b[0m\u001b[1;33m=\u001b[0m\u001b[1;36m42\u001b[0m\u001b[1;33m,\u001b[0m \u001b[0mstratify\u001b[0m\u001b[1;33m=\u001b[0m\u001b[0my_filtered\u001b[0m\u001b[1;33m)\u001b[0m\u001b[1;33m\u001b[0m\u001b[1;33m\u001b[0m\u001b[0m\n\u001b[0m",
      "\u001b[1;31mNameError\u001b[0m: name 'train_test_split' is not defined"
     ]
    }
   ],
   "source": [
    "X_train, X_test, y_train, y_test = train_test_split(X_filtered, y_filtered, test_size=0.2, random_state=42, stratify=y_filtered)\n"
   ]
  },
  {
   "cell_type": "markdown",
   "id": "63e3678a",
   "metadata": {},
   "source": [
    "# Define preprocessing for numeric and categorical features\n"
   ]
  },
  {
   "cell_type": "code",
   "execution_count": null,
   "id": "fc2d34dd",
   "metadata": {},
   "outputs": [],
   "source": [
    "numeric_features = ['Unit quantity', 'Weight']\n",
    "numeric_transformer = Pipeline(steps=[\n",
    "    ('scaler', StandardScaler())\n",
    "])\n",
    "\n",
    "categorical_features = ['Order ID', 'Order Date', 'Origin Port', 'Carrier', 'TPT', 'Service Level', \n",
    "                        'Ship ahead day count', 'Ship Late Day count', 'Customer', 'Product ID', \n",
    "                        'Destination Port']\n",
    "categorical_transformer = Pipeline(steps=[\n",
    "    ('encoder', OneHotEncoder(handle_unknown='ignore'))\n",
    "])\n",
    "\n"
   ]
  },
  {
   "cell_type": "markdown",
   "id": "0410478d",
   "metadata": {},
   "source": [
    "# Example DataFrame (replace this with your actual data loading)"
   ]
  },
  {
   "cell_type": "code",
   "execution_count": null,
   "id": "1b9e3670",
   "metadata": {},
   "outputs": [],
   "source": [
    "data = {\n",
    "    'date_column': ['2013-05-26', '2014-06-27', '2015-07-28'],\n",
    "    'numeric_column': [10, 20, 30],\n",
    "    'categorical_column': ['cat1', 'cat2', 'cat1']\n",
    "}\n",
    "X_train = pd.DataFrame(data)"
   ]
  },
  {
   "cell_type": "code",
   "execution_count": null,
   "id": "4435dc9b",
   "metadata": {},
   "outputs": [],
   "source": [
    "param_dist = {\n",
    "    'classifier__n_estimators': randint(50, 200),\n",
    "    'classifier__max_depth': [None, 10, 20, 30],\n",
    "    'classifier__min_samples_split': randint(2, 11),\n",
    "    'classifier__min_samples_leaf': randint(1, 5),\n",
    "    'classifier__bootstrap': [True, False]\n",
    "}"
   ]
  },
  {
   "cell_type": "markdown",
   "id": "b21edb12",
   "metadata": {},
   "source": [
    "# Define the model pipeline\n"
   ]
  },
  {
   "cell_type": "code",
   "execution_count": null,
   "id": "626db9d2",
   "metadata": {},
   "outputs": [],
   "source": [
    "numeric_features = ['numeric_column']\n",
    "categorical_features = ['categorical_column']\n",
    "date_feature = ['date_column']"
   ]
  },
  {
   "cell_type": "markdown",
   "id": "962292fe",
   "metadata": {},
   "source": [
    "# Create transformers"
   ]
  },
  {
   "cell_type": "code",
   "execution_count": null,
   "id": "f41ba44f",
   "metadata": {},
   "outputs": [],
   "source": [
    "numeric_transformer = Pipeline(steps=[\n",
    "    ('imputer', SimpleImputer(strategy='median')),\n",
    "    ('scaler', StandardScaler())\n",
    "])\n",
    "\n",
    "categorical_transformer = Pipeline(steps=[\n",
    "    ('imputer', SimpleImputer(strategy='constant', fill_value='missing')),\n",
    "    ('onehot', OneHotEncoder(handle_unknown='ignore'))\n",
    "])\n"
   ]
  },
  {
   "cell_type": "markdown",
   "id": "3eea233e",
   "metadata": {},
   "source": [
    "# Assuming 'date_column' needs to be transformed into numerical representation"
   ]
  },
  {
   "cell_type": "code",
   "execution_count": null,
   "id": "1d912ba6",
   "metadata": {},
   "outputs": [],
   "source": [
    "date_transformer = Pipeline(steps=[\n",
    "    ('date_processor', YourDateProcessor())  # Replace with appropriate processing step\n",
    "])"
   ]
  },
  {
   "cell_type": "markdown",
   "id": "822dfd60",
   "metadata": {},
   "source": [
    "# Bundle preprocessing for numerical and categorical data"
   ]
  },
  {
   "cell_type": "code",
   "execution_count": null,
   "id": "0c90580a",
   "metadata": {},
   "outputs": [],
   "source": [
    "preprocessor = ColumnTransformer(\n",
    "    transformers=[\n",
    "        ('num', numeric_transformer, numeric_features),\n",
    "        ('cat', categorical_transformer, categorical_features),\n",
    "        ('date', date_transformer, date_feature)\n",
    "    ])"
   ]
  },
  {
   "cell_type": "code",
   "execution_count": null,
   "id": "3b2fa117",
   "metadata": {},
   "outputs": [],
   "source": [
    "#from scipy.stats import randint\n"
   ]
  },
  {
   "cell_type": "code",
   "execution_count": null,
   "id": "e5bb8a1b",
   "metadata": {},
   "outputs": [],
   "source": []
  }
 ],
 "metadata": {
  "kernelspec": {
   "display_name": "Python 3 (ipykernel)",
   "language": "python",
   "name": "python3"
  },
  "language_info": {
   "codemirror_mode": {
    "name": "ipython",
    "version": 3
   },
   "file_extension": ".py",
   "mimetype": "text/x-python",
   "name": "python",
   "nbconvert_exporter": "python",
   "pygments_lexer": "ipython3",
   "version": "3.7.6"
  }
 },
 "nbformat": 4,
 "nbformat_minor": 5
}
