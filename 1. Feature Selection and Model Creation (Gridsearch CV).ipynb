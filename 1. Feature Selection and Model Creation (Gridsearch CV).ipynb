{
 "cells": [
  {
   "cell_type": "code",
   "execution_count": 1,
   "id": "e4318791",
   "metadata": {},
   "outputs": [],
   "source": [
    "import pandas as pd\n",
    "from sklearn.model_selection import GridSearchCV\n",
    "from sklearn.ensemble import RandomForestClassifier\n",
    "from sklearn.feature_selection import SelectKBest, f_classif\n",
    "from sklearn.pipeline import Pipeline\n",
    "from sklearn.compose import ColumnTransformer\n",
    "from sklearn.preprocessing import StandardScaler, OneHotEncoder\n",
    "import numpy as np"
   ]
  },
  {
   "cell_type": "markdown",
   "id": "063ebef5",
   "metadata": {},
   "source": [
    "# Load the data"
   ]
  },
  {
   "cell_type": "code",
   "execution_count": 2,
   "id": "b21f2c63",
   "metadata": {},
   "outputs": [],
   "source": [
    "order_list = pd.read_csv('preprocessed_OrderList.csv')\n",
    "freight_rates = pd.read_csv('preprocessed_FreightRates.csv')\n",
    "wh_costs = pd.read_csv('preprocessed_WhCosts.csv')\n",
    "wh_capacities = pd.read_csv('preprocessed_WhCapacities.csv')\n",
    "products_per_plant = pd.read_csv('preprocessed_ProductsPerPlant.csv')\n",
    "vmi_customers = pd.read_csv('preprocessed_VmiCustomers.csv')\n",
    "plant_ports = pd.read_csv('preprocessed_PlantPorts.csv')"
   ]
  },
  {
   "cell_type": "markdown",
   "id": "5a3f2a67",
   "metadata": {},
   "source": [
    "# Merge products_per_plant to include product-plant compatibility"
   ]
  },
  {
   "cell_type": "code",
   "execution_count": 3,
   "id": "0b2208dd",
   "metadata": {},
   "outputs": [],
   "source": [
    "merged_data = order_list.merge(products_per_plant, on=['Plant Code', 'Product ID'], how='left')\n",
    "\n"
   ]
  },
  {
   "cell_type": "markdown",
   "id": "8d38c7da",
   "metadata": {},
   "source": [
    "# Add a flag for customer-plant compatibility"
   ]
  },
  {
   "cell_type": "code",
   "execution_count": 4,
   "id": "0a3e61cc",
   "metadata": {},
   "outputs": [],
   "source": [
    "vmi_customers['Customer'] = vmi_customers['Customers'].str.split(',')\n",
    "vmi_customers = vmi_customers.explode('Customer')\n",
    "merged_data = merged_data.merge(vmi_customers[['Plant Code', 'Customer']], on=['Plant Code', 'Customer'], how='left', indicator=True)\n",
    "merged_data['Customer_Compatibility'] = np.where(merged_data['_merge'] == 'both', 1, 0)\n",
    "merged_data.drop(columns=['_merge'], inplace=True)\n"
   ]
  },
  {
   "cell_type": "markdown",
   "id": "d8e02f84",
   "metadata": {},
   "source": [
    "# Merge plant_ports to include plant-port connectivity"
   ]
  },
  {
   "cell_type": "code",
   "execution_count": 5,
   "id": "b7457028",
   "metadata": {},
   "outputs": [],
   "source": [
    "merged_data = merged_data.merge(plant_ports, on='Plant Code', how='left')"
   ]
  },
  {
   "cell_type": "markdown",
   "id": "e42a6dbe",
   "metadata": {},
   "source": [
    "# Merge wh_capacities to include plant daily capacity"
   ]
  },
  {
   "cell_type": "code",
   "execution_count": 6,
   "id": "115e426c",
   "metadata": {},
   "outputs": [],
   "source": [
    "merged_data = merged_data.merge(wh_capacities, left_on='Plant Code', right_on='Plant ID', how='left')"
   ]
  },
  {
   "cell_type": "markdown",
   "id": "99731773",
   "metadata": {},
   "source": [
    "# Merge wh_costs to include warehousing cost per unit"
   ]
  },
  {
   "cell_type": "code",
   "execution_count": 7,
   "id": "c7ee3d40",
   "metadata": {},
   "outputs": [],
   "source": [
    "merged_data = merged_data.merge(wh_costs, left_on='Plant Code', right_on='WH', how='left')\n"
   ]
  },
  {
   "cell_type": "markdown",
   "id": "f0e94185",
   "metadata": {},
   "source": [
    "# Merge freight_rates to include freight cost information"
   ]
  },
  {
   "cell_type": "code",
   "execution_count": 8,
   "id": "4d025cc3",
   "metadata": {},
   "outputs": [],
   "source": [
    "merged_data = merged_data.merge(freight_rates, left_on=['Carrier', 'Origin Port', 'Destination Port'], right_on=['Carrier', 'orig_port_cd', 'dest_port_cd'], how='left')\n"
   ]
  },
  {
   "cell_type": "markdown",
   "id": "fac3939c",
   "metadata": {},
   "source": [
    "# Dropping columns that won't be used as features"
   ]
  },
  {
   "cell_type": "code",
   "execution_count": 9,
   "id": "0ef0faed",
   "metadata": {},
   "outputs": [],
   "source": [
    "columns_to_drop = ['Order ID', 'Order Date', 'Plant ID', 'WH', 'orig_port_cd', 'dest_port_cd', 'minimum cost', 'Carrier type']\n",
    "columns_to_drop = [col for col in columns_to_drop if col in merged_data.columns]\n",
    "merged_data.drop(columns=columns_to_drop, inplace=True)"
   ]
  },
  {
   "cell_type": "markdown",
   "id": "b27ecb4e",
   "metadata": {},
   "source": [
    "# Converting categorical columns to string to ensure uniform data type"
   ]
  },
  {
   "cell_type": "code",
   "execution_count": 10,
   "id": "1b869a53",
   "metadata": {},
   "outputs": [],
   "source": [
    "categorical_columns = ['Carrier', 'Origin Port', 'Destination Port', 'Service Level', 'Customer', 'Product ID', 'Plant Code']\n",
    "for col in categorical_columns:\n",
    "    merged_data[col] = merged_data[col].astype(str)"
   ]
  },
  {
   "cell_type": "markdown",
   "id": "c7990f5b",
   "metadata": {},
   "source": [
    "# Handling missing values (for simplicity, we'll fill with zeroes or use imputation strategies)"
   ]
  },
  {
   "cell_type": "code",
   "execution_count": 11,
   "id": "f471e25b",
   "metadata": {},
   "outputs": [],
   "source": [
    "merged_data.fillna(0, inplace=True)"
   ]
  },
  {
   "cell_type": "markdown",
   "id": "e3701177",
   "metadata": {},
   "source": [
    "# Separating features and target variable"
   ]
  },
  {
   "cell_type": "code",
   "execution_count": 12,
   "id": "c72a5f74",
   "metadata": {},
   "outputs": [],
   "source": [
    "X = merged_data.drop(columns=['Plant Code'])\n",
    "y = merged_data['Plant Code'].astype(str)"
   ]
  },
  {
   "cell_type": "markdown",
   "id": "ba8aa63a",
   "metadata": {},
   "source": [
    "# ColumnTransformer to apply different preprocessors to different columns"
   ]
  },
  {
   "cell_type": "code",
   "execution_count": 13,
   "id": "a5e7ebf8",
   "metadata": {},
   "outputs": [],
   "source": [
    "numeric_features = X.select_dtypes(include=['int64', 'float64']).columns\n",
    "categorical_features = X.select_dtypes(include=['object']).columns\n",
    "\n",
    "preprocessor = ColumnTransformer(\n",
    "    transformers=[\n",
    "        ('num', StandardScaler(), numeric_features),\n",
    "        ('cat', OneHotEncoder(handle_unknown='ignore'), categorical_features)\n",
    "    ])"
   ]
  },
  {
   "cell_type": "markdown",
   "id": "fcfe4274",
   "metadata": {},
   "source": [
    "# Define a pipeline for feature selection and model training"
   ]
  },
  {
   "cell_type": "code",
   "execution_count": 14,
   "id": "4c4db995",
   "metadata": {},
   "outputs": [],
   "source": [
    "pipeline = Pipeline([\n",
    "    ('preprocessor', preprocessor),  # Preprocess the data\n",
    "    ('selector', SelectKBest(f_classif)),  # Feature selection\n",
    "    ('classifier', RandomForestClassifier())  # Classifier\n",
    "])"
   ]
  },
  {
   "cell_type": "markdown",
   "id": "bf131e06",
   "metadata": {},
   "source": [
    "# Parameter grid for GridSearchCV"
   ]
  },
  {
   "cell_type": "code",
   "execution_count": 15,
   "id": "96d24c11",
   "metadata": {},
   "outputs": [],
   "source": [
    "param_grid = {\n",
    "    'selector__k': [5, 10, 15, 'all'],  # Number of features to select\n",
    "    'classifier__n_estimators': [50, 100, 200],  # Number of trees in forest\n",
    "    'classifier__max_depth': [None, 10, 20],  # Maximum depth of the tree\n",
    "}"
   ]
  },
  {
   "cell_type": "markdown",
   "id": "f98a107c",
   "metadata": {},
   "source": [
    "# GridSearchCV for finding the best model"
   ]
  },
  {
   "cell_type": "code",
   "execution_count": 16,
   "id": "f5c45fb2",
   "metadata": {},
   "outputs": [],
   "source": [
    "grid_search = GridSearchCV(pipeline, param_grid, cv=5, scoring='accuracy')"
   ]
  },
  {
   "cell_type": "code",
   "execution_count": 18,
   "id": "1ee33608",
   "metadata": {},
   "outputs": [
    {
     "name": "stdout",
     "output_type": "stream",
     "text": [
      "OrderList columns: Index(['Order ID', 'Order Date', 'Origin Port', 'Carrier', 'TPT',\n",
      "       'Service Level', 'Ship ahead day count', 'Ship Late Day count',\n",
      "       'Customer', 'Product ID', 'Plant Code', 'Destination Port',\n",
      "       'Unit quantity', 'Weight'],\n",
      "      dtype='object')\n",
      "FreightRates columns: Index(['Carrier', 'orig_port_cd', 'dest_port_cd', 'minm_wgh_qty',\n",
      "       'max_wgh_qty', 'svc_cd', 'minimum cost', 'rate', 'mode_dsc',\n",
      "       'tpt_day_cnt', 'Carrier type'],\n",
      "      dtype='object')\n",
      "WhCosts columns: Index(['WH', 'Cost/unit'], dtype='object')\n",
      "WhCapacities columns: Index(['Plant ID', 'Daily Capacity '], dtype='object')\n",
      "ProductsPerPlant columns: Index(['Plant Code', 'Product ID'], dtype='object')\n",
      "VmiCustomers columns: Index(['Plant Code', 'Customers', 'Customer'], dtype='object')\n",
      "PlantPorts columns: Index(['Plant Code', 'Port'], dtype='object')\n"
     ]
    }
   ],
   "source": [
    "# Print column names to check for correct column names\n",
    "print(\"OrderList columns:\", order_list.columns)\n",
    "print(\"FreightRates columns:\", freight_rates.columns)\n",
    "print(\"WhCosts columns:\", wh_costs.columns)\n",
    "print(\"WhCapacities columns:\", wh_capacities.columns)\n",
    "print(\"ProductsPerPlant columns:\", products_per_plant.columns)\n",
    "print(\"VmiCustomers columns:\", vmi_customers.columns)\n",
    "print(\"PlantPorts columns:\", plant_ports.columns)"
   ]
  },
  {
   "cell_type": "code",
   "execution_count": null,
   "id": "60b45bf1",
   "metadata": {},
   "outputs": [],
   "source": []
  }
 ],
 "metadata": {
  "kernelspec": {
   "display_name": "Python 3 (ipykernel)",
   "language": "python",
   "name": "python3"
  },
  "language_info": {
   "codemirror_mode": {
    "name": "ipython",
    "version": 3
   },
   "file_extension": ".py",
   "mimetype": "text/x-python",
   "name": "python",
   "nbconvert_exporter": "python",
   "pygments_lexer": "ipython3",
   "version": "3.7.6"
  }
 },
 "nbformat": 4,
 "nbformat_minor": 5
}
